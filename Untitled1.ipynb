{
  "nbformat": 4,
  "nbformat_minor": 0,
  "metadata": {
    "colab": {
      "provenance": [],
      "authorship_tag": "ABX9TyOgrbMq3cGQaYgkLjLMgURo",
      "include_colab_link": true
    },
    "kernelspec": {
      "name": "python3",
      "display_name": "Python 3"
    },
    "language_info": {
      "name": "python"
    }
  },
  "cells": [
    {
      "cell_type": "markdown",
      "metadata": {
        "id": "view-in-github",
        "colab_type": "text"
      },
      "source": [
        "<a href=\"https://colab.research.google.com/github/FELIPEIDDQD/Arquivos.legais/blob/main/Untitled1.ipynb\" target=\"_parent\"><img src=\"https://colab.research.google.com/assets/colab-badge.svg\" alt=\"Open In Colab\"/></a>"
      ]
    },
    {
      "cell_type": "code",
      "execution_count": null,
      "metadata": {
        "colab": {
          "base_uri": "https://localhost:8080/"
        },
        "id": "m-ZVpLXOIhei",
        "outputId": "a99e025e-4e8f-4565-b035-78cd66d058e0"
      },
      "outputs": [
        {
          "output_type": "stream",
          "name": "stdout",
          "text": [
            "nome do alunojoao\n",
            "nota10\n",
            "aprovado\n"
          ]
        }
      ],
      "source": [
        "aprovado = (5)\n",
        "\n",
        "al = {}\n",
        "al['aluno'] = str(input('nome do aluno'))\n",
        "al['notas'] = float(input('nota'))\n",
        "if al['notas'] < aprovado:\n",
        "  print('reprovado')\n",
        "else:\n",
        "  print('aprovado')\n"
      ]
    },
    {
      "cell_type": "markdown",
      "source": [
        "desafio 91\n"
      ],
      "metadata": {
        "id": "MtiB3nlHAkRi"
      }
    },
    {
      "cell_type": "code",
      "source": [
        "trab ={}\n",
        "trab['nome'] = str(input('Nome'))\n",
        "trab['nascimento'] = int(input('ano de nascimento')) \n",
        "idade = 2022 - trab['nascimento']\n",
        "trab['ctps'] = int(input('carteira de trabalho (0) = não tem'))\n",
        "print(f'nome = {trab[\"nome\"]}')\n",
        "print(f'idade = {idade}')\n",
        "print(f'ctps tem valor = {trab[\"ctps\"]}')\n",
        "print('-=-=-=-=-=-=-=-=-=-=-=-=-=-=-=-=-=-=-=-=-=-=-=-=-=-=-=-=-=-=-=-=-=')\n",
        "if trab['ctps'] != 0:\n",
        "  trab['contratação'] = int(input('ano de contratação'))\n",
        "  tempos = (trab['contratação'] - trab['nascimento']) + 35   \n",
        "  trab['salario'] = int(input('salário = '))\n",
        "  print(f'aposentadoria = {tempos}')\n",
        "\n",
        "\n",
        "\n"
      ],
      "metadata": {
        "colab": {
          "base_uri": "https://localhost:8080/"
        },
        "id": "pufHaLF4Amoj",
        "outputId": "11f9d813-151b-4d2e-88a2-964fbd396134"
      },
      "execution_count": null,
      "outputs": [
        {
          "output_type": "stream",
          "name": "stdout",
          "text": [
            "Nomefelipe\n",
            "ano de nascimento1996\n",
            "carteira de trabalho (0) = não tem1234\n",
            "nome = felipe\n",
            "idade = 26\n",
            "ctps tem valor = 1234\n",
            "-=-=-=-=-=-=-=-=-=-=-=-=-=-=-=-=-=-=-=-=-=-=-=-=-=-=-=-=-=-=-=-=-=\n",
            "ano de contratação2014\n",
            "salário = 1000\n",
            "aposentadoria = 53\n"
          ]
        }
      ]
    },
    {
      "cell_type": "markdown",
      "source": [
        "desafio 92\n"
      ],
      "metadata": {
        "id": "dwT2_8UTql5u"
      }
    },
    {
      "cell_type": "code",
      "source": [
        "def MQ():\n",
        "  print('controle de terreno')\n",
        "  print('-'*20)\n",
        "  largura = float(input('LAGURA (M): '))\n",
        "  comprimento = float(input('comprimento (M): '))\n",
        "  quadrado = largura * comprimento\n",
        "  print(f'A área de um terreno {largura}x{comprimento} é de {quadrado}m²')\n",
        "\n",
        "\n",
        "MQ()\n"
      ],
      "metadata": {
        "colab": {
          "base_uri": "https://localhost:8080/"
        },
        "id": "XeM2MkZ_qo-I",
        "outputId": "62565654-469c-4854-8359-8848aedada35"
      },
      "execution_count": null,
      "outputs": [
        {
          "output_type": "stream",
          "name": "stdout",
          "text": [
            "controle de terreno\n",
            "--------------------\n"
          ]
        }
      ]
    },
    {
      "cell_type": "markdown",
      "source": [
        "atividade "
      ],
      "metadata": {
        "id": "a2yFcw4p12Yz"
      }
    },
    {
      "cell_type": "code",
      "source": [],
      "metadata": {
        "colab": {
          "base_uri": "https://localhost:8080/",
          "height": 252
        },
        "id": "ohdjNdK813sK",
        "outputId": "6b206783-ed76-4ea0-83dd-a6fdfa3dc822"
      },
      "execution_count": null,
      "outputs": [
        {
          "output_type": "stream",
          "name": "stdout",
          "text": [
            "1\n"
          ]
        },
        {
          "output_type": "error",
          "ename": "KeyboardInterrupt",
          "evalue": "ignored",
          "traceback": [
            "\u001b[0;31m---------------------------------------------------------------------------\u001b[0m",
            "\u001b[0;31mKeyboardInterrupt\u001b[0m                         Traceback (most recent call last)",
            "\u001b[0;32m<ipython-input-59-e195f635c085>\u001b[0m in \u001b[0;36m<module>\u001b[0;34m\u001b[0m\n\u001b[1;32m      7\u001b[0m     \u001b[0mi\u001b[0m \u001b[0;34m+=\u001b[0m \u001b[0;36m1\u001b[0m\u001b[0;34m\u001b[0m\u001b[0;34m\u001b[0m\u001b[0m\n\u001b[1;32m      8\u001b[0m     \u001b[0mprint\u001b[0m\u001b[0;34m(\u001b[0m\u001b[0mi\u001b[0m\u001b[0;34m)\u001b[0m\u001b[0;34m\u001b[0m\u001b[0;34m\u001b[0m\u001b[0m\n\u001b[0;32m----> 9\u001b[0;31m   \u001b[0;32mif\u001b[0m \u001b[0mlista\u001b[0m \u001b[0;34m==\u001b[0m \u001b[0;34m'dnc'\u001b[0m\u001b[0;34m:\u001b[0m\u001b[0;34m\u001b[0m\u001b[0;34m\u001b[0m\u001b[0m\n\u001b[0m\u001b[1;32m     10\u001b[0m     \u001b[0;32mbreak\u001b[0m\u001b[0;34m\u001b[0m\u001b[0;34m\u001b[0m\u001b[0m\n\u001b[1;32m     11\u001b[0m \u001b[0;34m\u001b[0m\u001b[0m\n",
            "\u001b[0;31mKeyboardInterrupt\u001b[0m: "
          ]
        }
      ]
    }
  ]
}